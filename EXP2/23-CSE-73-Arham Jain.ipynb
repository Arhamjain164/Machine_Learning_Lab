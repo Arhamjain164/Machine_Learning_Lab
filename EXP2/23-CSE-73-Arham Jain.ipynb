{
 "cells": [
  {
   "cell_type": "markdown",
   "id": "1dfd30f4-5edb-4ade-a5be-62f699b19c20",
   "metadata": {},
   "source": [
    "1.Write a NumPy program to create a 3x3x3 array filled with arbitrary values"
   ]
  },
  {
   "cell_type": "code",
   "execution_count": 4,
   "id": "a13a774a-426b-426e-bff8-1fc1c0e5c50a",
   "metadata": {
    "scrolled": true
   },
   "outputs": [
    {
     "name": "stdout",
     "output_type": "stream",
     "text": [
      "[[[2.35124038e-01 7.72952380e-01 8.04724701e-01]\n",
      "  [8.05867098e-01 4.01136247e-01 3.02521942e-01]\n",
      "  [6.82353395e-02 7.94111022e-01 1.98249663e-01]]\n",
      "\n",
      " [[3.04224013e-01 6.01843557e-04 8.72024327e-01]\n",
      "  [5.12628081e-01 9.01965802e-01 7.65856537e-01]\n",
      "  [6.53461549e-02 6.13463531e-01 7.75533489e-01]]\n",
      "\n",
      " [[2.56488924e-01 1.48843920e-01 9.06777150e-01]\n",
      "  [4.11113613e-02 2.47636967e-01 2.98895988e-02]\n",
      "  [2.50988305e-01 6.94166723e-01 3.15945511e-01]]]\n"
     ]
    }
   ],
   "source": [
    "import numpy as np\n",
    "y=np.random.random((3,3,3))\n",
    "print(y)"
   ]
  },
  {
   "cell_type": "markdown",
   "id": "e141a660-9787-4183-be27-83e9abd989cf",
   "metadata": {},
   "source": [
    "2.Write a NumPy program to create a vector with values ​​ranging from 15 to 55 and print all values ​​except the first and last."
   ]
  },
  {
   "cell_type": "code",
   "execution_count": 12,
   "id": "715a620b-57ef-4901-a116-2911b8b10b3c",
   "metadata": {},
   "outputs": [
    {
     "name": "stdout",
     "output_type": "stream",
     "text": [
      "The original vector is:\n",
      "[15 16 17 18 19 20 21 22 23 24 25 26 27 28 29 30 31 32 33 34 35 36 37 38\n",
      " 39 40 41 42 43 44 45 46 47 48 49 50 51 52 53 54 55]\n",
      "All values except he first and last of the vector :\n",
      "[16 17 18 19 20 21 22 23 24 25 26 27 28 29 30 31 32 33 34 35 36 37 38 39\n",
      " 40 41 42 43 44 45 46 47 48 49 50 51 52 53 54]\n"
     ]
    }
   ],
   "source": [
    "v = np.arange(15,56)\n",
    "print(\"The original vector is:\")\n",
    "print(v)\n",
    "print(\"All values except he first and last of the vector :\")\n",
    "print(v[1:-1])"
   ]
  },
  {
   "cell_type": "markdown",
   "id": "a529c17d-7d22-431b-b74f-f6ef20f68ba9",
   "metadata": {},
   "source": [
    "3.Write a NumPy program to multiply two given arrays of the 2 x 3 size element-by-element. "
   ]
  },
  {
   "cell_type": "code",
   "execution_count": 24,
   "id": "0732c26e-fc84-4461-b21f-0f58f1634adf",
   "metadata": {},
   "outputs": [
    {
     "name": "stdout",
     "output_type": "stream",
     "text": [
      "First Array:\n",
      "[[2 6 8]\n",
      " [3 5 7]]\n",
      "Second Array:\n",
      "[[1 3 4]\n",
      " [8 9 4]]\n",
      "After multiplying the two arrays:\n",
      "[[ 2 18 32]\n",
      " [24 45 28]]\n"
     ]
    }
   ],
   "source": [
    "arr1=np.array([[2,6,8],[3,5,7]])\n",
    "arr2=np.array([[1,3,4],[8,9,4]])\n",
    "print(\"First Array:\")\n",
    "print(arr1)\n",
    "print(\"Second Array:\")\n",
    "print(arr2)\n",
    "print(\"After multiplying the two arrays:\")\n",
    "print(np.multiply(arr1,arr2))\n"
   ]
  },
  {
   "cell_type": "markdown",
   "id": "f2baaec4-52f8-46ce-8a27-6453774bfb09",
   "metadata": {},
   "source": [
    "4.Write a NumPy program to create a 3X4 array and iterate over it"
   ]
  },
  {
   "cell_type": "code",
   "execution_count": 25,
   "id": "bd444801-2640-4acb-a0cd-759f2fa7d71a",
   "metadata": {},
   "outputs": [
    {
     "name": "stdout",
     "output_type": "stream",
     "text": [
      "Original array is:\n",
      "[[ 1  2  3  4]\n",
      " [ 5  6  7  8]\n",
      " [ 9 10 11 12]]\n",
      "Each element of array is\n",
      "1 2 3 4 5 6 7 8 9 10 11 12 "
     ]
    }
   ],
   "source": [
    "b=np.arange(1,13).reshape((3,4))\n",
    "print(\"Original array is:\")\n",
    "print(b)\n",
    "print(\"Each element of array is\")\n",
    "for x in np.nditer(b):\n",
    "    print(x,end=\" \")\n"
   ]
  },
  {
   "cell_type": "markdown",
   "id": "bef20d59-48f3-486b-935e-e095f3325ca1",
   "metadata": {},
   "source": [
    "5.Write a NumPy program to compute the sum of the diagonal element(Trace of array) of a given array(4x4). (use built in linear algebra function only) "
   ]
  },
  {
   "cell_type": "code",
   "execution_count": 26,
   "id": "50c2acf8-3a4f-4525-bdac-1820f9cbc069",
   "metadata": {},
   "outputs": [
    {
     "name": "stdout",
     "output_type": "stream",
     "text": [
      "Original array is:\n",
      "\n",
      "[[ 1  2  3  4]\n",
      " [ 5  6  7  8]\n",
      " [ 9 10 11 12]\n",
      " [13 14 15 16]]\n",
      "Trace of the array is\n",
      "34\n"
     ]
    }
   ],
   "source": [
    "arr=np.arange(1,17).reshape(4,4)\n",
    "print(\"Original array is:\\n\")\n",
    "print(arr)\n",
    "tr=np.trace(arr)\n",
    "print(\"Trace of the array is\")\n",
    "print(tr)"
   ]
  },
  {
   "cell_type": "markdown",
   "id": "da8b8f05-697e-4a7b-91f9-c9e1a7b19ae4",
   "metadata": {},
   "source": [
    "#### NOTE : \n",
    "Submit the notebook file with name : 2kxx-CSE-xx_your name\n",
    "\n",
    "questions containing \"given array\" declare the array and give appropriate values "
   ]
  }
 ],
 "metadata": {
  "kernelspec": {
   "display_name": "Python 3 (ipykernel)",
   "language": "python",
   "name": "python3"
  },
  "language_info": {
   "codemirror_mode": {
    "name": "ipython",
    "version": 3
   },
   "file_extension": ".py",
   "mimetype": "text/x-python",
   "name": "python",
   "nbconvert_exporter": "python",
   "pygments_lexer": "ipython3",
   "version": "3.11.5"
  }
 },
 "nbformat": 4,
 "nbformat_minor": 5
}
